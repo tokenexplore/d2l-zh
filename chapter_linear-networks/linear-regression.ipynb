{
 "cells": [
  {
   "cell_type": "code",
   "execution_count": 1,
   "id": "1d80525c",
   "metadata": {},
   "outputs": [
    {
     "name": "stdout",
     "output_type": "stream",
     "text": [
      "Requirement already satisfied: torchvision in /Users/daniel/miniconda3/lib/python3.11/site-packages (0.23.0)\n",
      "Requirement already satisfied: numpy in /Users/daniel/miniconda3/lib/python3.11/site-packages (from torchvision) (1.26.4)\n",
      "Requirement already satisfied: torch==2.8.0 in /Users/daniel/miniconda3/lib/python3.11/site-packages (from torchvision) (2.8.0)\n",
      "Requirement already satisfied: pillow!=8.3.*,>=5.3.0 in /Users/daniel/miniconda3/lib/python3.11/site-packages (from torchvision) (10.4.0)\n",
      "Requirement already satisfied: filelock in /Users/daniel/miniconda3/lib/python3.11/site-packages (from torch==2.8.0->torchvision) (3.15.4)\n",
      "Requirement already satisfied: typing-extensions>=4.10.0 in /Users/daniel/miniconda3/lib/python3.11/site-packages (from torch==2.8.0->torchvision) (4.15.0)\n",
      "Requirement already satisfied: sympy>=1.13.3 in /Users/daniel/miniconda3/lib/python3.11/site-packages (from torch==2.8.0->torchvision) (1.14.0)\n",
      "Requirement already satisfied: networkx in /Users/daniel/miniconda3/lib/python3.11/site-packages (from torch==2.8.0->torchvision) (2.8.8)\n",
      "Requirement already satisfied: jinja2 in /Users/daniel/miniconda3/lib/python3.11/site-packages (from torch==2.8.0->torchvision) (3.1.4)\n",
      "Requirement already satisfied: fsspec in /Users/daniel/miniconda3/lib/python3.11/site-packages (from torch==2.8.0->torchvision) (2023.10.0)\n",
      "Requirement already satisfied: mpmath<1.4,>=1.1.0 in /Users/daniel/miniconda3/lib/python3.11/site-packages (from sympy>=1.13.3->torch==2.8.0->torchvision) (1.3.0)\n",
      "Requirement already satisfied: MarkupSafe>=2.0 in /Users/daniel/miniconda3/lib/python3.11/site-packages (from jinja2->torch==2.8.0->torchvision) (2.1.5)\n",
      "Note: you may need to restart the kernel to use updated packages.\n"
     ]
    }
   ],
   "source": [
    "%pip install torchvision\n",
    "%matplotlib inline\n",
    "import math\n",
    "import time\n",
    "import numpy as np\n",
    "import torch"
   ]
  },
  {
   "cell_type": "code",
   "execution_count": 3,
   "id": "02d60589",
   "metadata": {},
   "outputs": [],
   "source": [
    "class Timer:  #@save\n",
    "    \"\"\"记录多次运行时间\"\"\"\n",
    "    def __init__(self):\n",
    "        self.times = []\n",
    "        self.start()\n",
    "\n",
    "    def start(self):\n",
    "        \"\"\"启动计时器\"\"\"\n",
    "        self.tik = time.time()\n",
    "\n",
    "    def stop(self):\n",
    "        \"\"\"停止计时器并将时间记录在列表中\"\"\"\n",
    "        self.times.append(time.time() - self.tik)\n",
    "        return self.times[-1]\n",
    "\n",
    "    def avg(self):\n",
    "        \"\"\"返回平均时间\"\"\"\n",
    "        return sum(self.times) / len(self.times)\n",
    "\n",
    "    def sum(self):\n",
    "        \"\"\"返回时间总和\"\"\"\n",
    "        return sum(self.times)\n",
    "\n",
    "    def cumsum(self):\n",
    "        \"\"\"返回累计时间\"\"\"\n",
    "        return np.array(self.times).cumsum().tolist()"
   ]
  },
  {
   "cell_type": "code",
   "execution_count": 7,
   "id": "0a8ffd8d",
   "metadata": {},
   "outputs": [
    {
     "name": "stdout",
     "output_type": "stream",
     "text": [
      "0.04473 sec\n",
      "0.00021 sec\n"
     ]
    }
   ],
   "source": [
    "n = 10000\n",
    "x = torch.ones(n)\n",
    "y = torch.ones(n)\n",
    "c = torch.zeros(n)\n",
    "timer = Timer()\n",
    "for i in range(n):\n",
    "    c[i] = x[i] + y[i]\n",
    "\n",
    "print(f'{timer.stop():.5f} sec')\n",
    "\n",
    "# 使用重载的+运算符\n",
    "timer.start()\n",
    "c = x + y\n",
    "print(f'{timer.stop():.5f} sec')"
   ]
  }
 ],
 "metadata": {
  "kernelspec": {
   "display_name": "base",
   "language": "python",
   "name": "python3"
  },
  "language_info": {
   "codemirror_mode": {
    "name": "ipython",
    "version": 3
   },
   "file_extension": ".py",
   "mimetype": "text/x-python",
   "name": "python",
   "nbconvert_exporter": "python",
   "pygments_lexer": "ipython3",
   "version": "3.11.5"
  }
 },
 "nbformat": 4,
 "nbformat_minor": 5
}
