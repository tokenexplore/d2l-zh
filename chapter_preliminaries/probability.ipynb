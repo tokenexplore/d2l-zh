{
 "cells": [
  {
   "cell_type": "code",
   "execution_count": 1,
   "id": "3fd972ca",
   "metadata": {},
   "outputs": [],
   "source": [
    "%matplotlib inline\n",
    "import torch"
   ]
  },
  {
   "cell_type": "code",
   "execution_count": null,
   "id": "d4da228f",
   "metadata": {},
   "outputs": [
    {
     "data": {
      "text/plain": [
       "tensor([1., 1., 3., 2., 2., 1.])"
      ]
     },
     "execution_count": 6,
     "metadata": {},
     "output_type": "execute_result"
    }
   ],
   "source": [
    "from torch.distributions import multinomial\n",
    "fair_probs = torch.ones(6) / 6\n",
    "fair_probs\n",
    "\n",
    "# 离散概率采样\n",
    "multinomial.Multinomial(10, fair_probs).sample()"
   ]
  },
  {
   "cell_type": "code",
   "execution_count": 9,
   "id": "f9a87da8",
   "metadata": {},
   "outputs": [
    {
     "data": {
      "text/plain": [
       "tensor([4., 6.])"
      ]
     },
     "execution_count": 9,
     "metadata": {},
     "output_type": "execute_result"
    }
   ],
   "source": [
    "# 硬币的公平性\n",
    "multinomial.Multinomial(10, torch.tensor([0.5, 0.5])).sample()"
   ]
  },
  {
   "cell_type": "code",
   "execution_count": 15,
   "id": "9c769dfc",
   "metadata": {},
   "outputs": [
    {
     "data": {
      "text/plain": [
       "tensor([0.1690, 0.1780, 0.1500, 0.1610, 0.1790, 0.1630])"
      ]
     },
     "execution_count": 15,
     "metadata": {},
     "output_type": "execute_result"
    }
   ],
   "source": [
    "# 采样1000次\n",
    "multinomial.Multinomial(1000, fair_probs).sample()/1000"
   ]
  },
  {
   "cell_type": "code",
   "execution_count": 2,
   "id": "e703fa0b",
   "metadata": {},
   "outputs": [
    {
     "name": "stdout",
     "output_type": "stream",
     "text": [
      "Requirement already satisfied: import-ipynb in /Users/daniel/miniconda3/lib/python3.11/site-packages (0.2)\n",
      "Requirement already satisfied: IPython in /Users/daniel/miniconda3/lib/python3.11/site-packages (from import-ipynb) (8.26.0)\n",
      "Requirement already satisfied: nbformat in /Users/daniel/miniconda3/lib/python3.11/site-packages (from import-ipynb) (5.10.4)\n",
      "Requirement already satisfied: decorator in /Users/daniel/miniconda3/lib/python3.11/site-packages (from IPython->import-ipynb) (5.1.1)\n",
      "Requirement already satisfied: jedi>=0.16 in /Users/daniel/miniconda3/lib/python3.11/site-packages (from IPython->import-ipynb) (0.19.1)\n",
      "Requirement already satisfied: matplotlib-inline in /Users/daniel/miniconda3/lib/python3.11/site-packages (from IPython->import-ipynb) (0.1.7)\n",
      "Requirement already satisfied: prompt-toolkit<3.1.0,>=3.0.41 in /Users/daniel/miniconda3/lib/python3.11/site-packages (from IPython->import-ipynb) (3.0.47)\n",
      "Requirement already satisfied: pygments>=2.4.0 in /Users/daniel/miniconda3/lib/python3.11/site-packages (from IPython->import-ipynb) (2.18.0)\n",
      "Requirement already satisfied: stack-data in /Users/daniel/miniconda3/lib/python3.11/site-packages (from IPython->import-ipynb) (0.6.3)\n",
      "Requirement already satisfied: traitlets>=5.13.0 in /Users/daniel/miniconda3/lib/python3.11/site-packages (from IPython->import-ipynb) (5.14.3)\n",
      "Requirement already satisfied: typing-extensions>=4.6 in /Users/daniel/miniconda3/lib/python3.11/site-packages (from IPython->import-ipynb) (4.15.0)\n",
      "Requirement already satisfied: pexpect>4.3 in /Users/daniel/miniconda3/lib/python3.11/site-packages (from IPython->import-ipynb) (4.9.0)\n",
      "Requirement already satisfied: fastjsonschema>=2.15 in /Users/daniel/miniconda3/lib/python3.11/site-packages (from nbformat->import-ipynb) (2.20.0)\n",
      "Requirement already satisfied: jsonschema>=2.6 in /Users/daniel/miniconda3/lib/python3.11/site-packages (from nbformat->import-ipynb) (4.23.0)\n",
      "Requirement already satisfied: jupyter-core!=5.0.*,>=4.12 in /Users/daniel/miniconda3/lib/python3.11/site-packages (from nbformat->import-ipynb) (5.7.2)\n",
      "Requirement already satisfied: parso<0.9.0,>=0.8.3 in /Users/daniel/miniconda3/lib/python3.11/site-packages (from jedi>=0.16->IPython->import-ipynb) (0.8.4)\n",
      "Requirement already satisfied: attrs>=22.2.0 in /Users/daniel/miniconda3/lib/python3.11/site-packages (from jsonschema>=2.6->nbformat->import-ipynb) (23.2.0)\n",
      "Requirement already satisfied: jsonschema-specifications>=2023.03.6 in /Users/daniel/miniconda3/lib/python3.11/site-packages (from jsonschema>=2.6->nbformat->import-ipynb) (2023.12.1)\n",
      "Requirement already satisfied: referencing>=0.28.4 in /Users/daniel/miniconda3/lib/python3.11/site-packages (from jsonschema>=2.6->nbformat->import-ipynb) (0.35.1)\n",
      "Requirement already satisfied: rpds-py>=0.7.1 in /Users/daniel/miniconda3/lib/python3.11/site-packages (from jsonschema>=2.6->nbformat->import-ipynb) (0.19.0)\n",
      "Requirement already satisfied: platformdirs>=2.5 in /Users/daniel/miniconda3/lib/python3.11/site-packages (from jupyter-core!=5.0.*,>=4.12->nbformat->import-ipynb) (4.2.2)\n",
      "Requirement already satisfied: ptyprocess>=0.5 in /Users/daniel/miniconda3/lib/python3.11/site-packages (from pexpect>4.3->IPython->import-ipynb) (0.7.0)\n",
      "Requirement already satisfied: wcwidth in /Users/daniel/miniconda3/lib/python3.11/site-packages (from prompt-toolkit<3.1.0,>=3.0.41->IPython->import-ipynb) (0.2.13)\n",
      "Requirement already satisfied: executing>=1.2.0 in /Users/daniel/miniconda3/lib/python3.11/site-packages (from stack-data->IPython->import-ipynb) (2.0.1)\n",
      "Requirement already satisfied: asttokens>=2.1.0 in /Users/daniel/miniconda3/lib/python3.11/site-packages (from stack-data->IPython->import-ipynb) (2.4.1)\n",
      "Requirement already satisfied: pure-eval in /Users/daniel/miniconda3/lib/python3.11/site-packages (from stack-data->IPython->import-ipynb) (0.2.2)\n",
      "Requirement already satisfied: six>=1.12.0 in /Users/daniel/miniconda3/lib/python3.11/site-packages (from asttokens>=2.1.0->stack-data->IPython->import-ipynb) (1.16.0)\n",
      "Note: you may need to restart the kernel to use updated packages.\n"
     ]
    }
   ],
   "source": [
    "%pip install import-ipynb"
   ]
  },
  {
   "cell_type": "code",
   "execution_count": null,
   "id": "68026a95",
   "metadata": {},
   "outputs": [
    {
     "ename": "ImportError",
     "evalue": "attempted relative import with no known parent package",
     "output_type": "error",
     "traceback": [
      "\u001b[0;31m---------------------------------------------------------------------------\u001b[0m",
      "\u001b[0;31mImportError\u001b[0m                               Traceback (most recent call last)",
      "Cell \u001b[0;32mIn[4], line 2\u001b[0m\n\u001b[1;32m      1\u001b[0m \u001b[38;5;28;01mimport\u001b[39;00m \u001b[38;5;21;01msys\u001b[39;00m\n\u001b[0;32m----> 2\u001b[0m \u001b[38;5;28;01mfrom\u001b[39;00m \u001b[38;5;21;01m.\u001b[39;00m\u001b[38;5;21;01m.\u001b[39;00m\u001b[38;5;21;01md2l\u001b[39;00m \u001b[38;5;28;01mimport\u001b[39;00m torch \u001b[38;5;28;01mas\u001b[39;00m d2l\n",
      "\u001b[0;31mImportError\u001b[0m: attempted relative import with no known parent package"
     ]
    }
   ],
   "source": []
  }
 ],
 "metadata": {
  "kernelspec": {
   "display_name": "base",
   "language": "python",
   "name": "python3"
  },
  "language_info": {
   "codemirror_mode": {
    "name": "ipython",
    "version": 3
   },
   "file_extension": ".py",
   "mimetype": "text/x-python",
   "name": "python",
   "nbconvert_exporter": "python",
   "pygments_lexer": "ipython3",
   "version": "3.11.5"
  }
 },
 "nbformat": 4,
 "nbformat_minor": 5
}
