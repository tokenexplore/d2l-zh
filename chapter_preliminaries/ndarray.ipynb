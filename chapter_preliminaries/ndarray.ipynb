{
 "cells": [
  {
   "cell_type": "code",
   "execution_count": 3,
   "id": "3130e5c2",
   "metadata": {
    "vscode": {
     "languageId": "shellscript"
    }
   },
   "outputs": [
    {
     "name": "stdout",
     "output_type": "stream",
     "text": [
      "Requirement already satisfied: torch in /Users/daniel/miniconda3/lib/python3.11/site-packages (2.4.0)\n",
      "Requirement already satisfied: filelock in /Users/daniel/miniconda3/lib/python3.11/site-packages (from torch) (3.15.4)\n",
      "Requirement already satisfied: typing-extensions>=4.8.0 in /Users/daniel/miniconda3/lib/python3.11/site-packages (from torch) (4.15.0)\n",
      "Requirement already satisfied: sympy in /Users/daniel/miniconda3/lib/python3.11/site-packages (from torch) (1.13.1)\n",
      "Requirement already satisfied: networkx in /Users/daniel/miniconda3/lib/python3.11/site-packages (from torch) (2.8.8)\n",
      "Requirement already satisfied: jinja2 in /Users/daniel/miniconda3/lib/python3.11/site-packages (from torch) (3.1.4)\n",
      "Requirement already satisfied: fsspec in /Users/daniel/miniconda3/lib/python3.11/site-packages (from torch) (2023.10.0)\n",
      "Requirement already satisfied: MarkupSafe>=2.0 in /Users/daniel/miniconda3/lib/python3.11/site-packages (from jinja2->torch) (2.1.5)\n",
      "Requirement already satisfied: mpmath<1.4,>=1.1.0 in /Users/daniel/miniconda3/lib/python3.11/site-packages (from sympy->torch) (1.3.0)\n"
     ]
    }
   ],
   "source": [
    "!pip install torch"
   ]
  },
  {
   "cell_type": "code",
   "execution_count": 2,
   "id": "23e89ac0",
   "metadata": {},
   "outputs": [],
   "source": [
    "import torch # 首先，我们导入torch。请注意，虽然它被称为PyTorch，但是代码中使用torch而不是pytorch。"
   ]
  },
  {
   "cell_type": "code",
   "execution_count": null,
   "id": "f422cf77",
   "metadata": {},
   "outputs": [
    {
     "data": {
      "text/plain": [
       "tensor([[1, 2, 3],\n",
       "        [4, 5, 6]])"
      ]
     },
     "execution_count": 5,
     "metadata": {},
     "output_type": "execute_result"
    }
   ],
   "source": [
    "# 使用 arange 创建一个行向量 \n",
    "x = torch.arange(12)  # [0, 1, ..., 11]\n",
    "\n",
    "# 可以通过张量的shape属性来访问张量（沿每个轴的长度）的形状\n",
    "x.shape # torch.Size([12])\n",
    "\n",
    "# 张量中元素的总数\n",
    "x.numel() # 12\n",
    "\n",
    "# 改变一个张量的形状而不改变元素数量和元素值，可以调用reshape函数\n",
    "y = x.reshape(3, 4) # 3行4列的矩阵\n",
    "y.shape # torch.Size([3, 4])\n",
    "\n",
    "# 可以通过-1来调用此自动计算出维度的功能。 即我们可以用x.reshape(-1,4)或x.reshape(3,-1)来取代x.reshape(3,4)\n",
    "x.reshape(-1, 4) # torch.Size([3, 4]) # -1 则表示自动计算该维度\n",
    "x.reshape(2, -1) # torch.Size([2, 6])\n",
    "\n",
    "# 零填充初始张量\n",
    "torch.zeros((2, 3, 4)) # 2个3行4列的矩阵，元素全是零\n",
    "\n",
    "torch.ones((2, 3, 4)) # 2个3行4列的矩阵，元素全是1\n",
    "\n",
    "torch.randn(3, 4) # 3行4列的矩阵，元素服从标准正态分布\n",
    "\n",
    "torch.tensor([[1, 2, 3], [4, 5, 6]]) # 2行3列的矩阵，元素为指定值"
   ]
  },
  {
   "cell_type": "code",
   "execution_count": null,
   "id": "a027276f",
   "metadata": {},
   "outputs": [
    {
     "data": {
      "text/plain": [
       "(tensor([ 3.,  4.,  6., 10.]),\n",
       " tensor([-1.,  0.,  2.,  6.]),\n",
       " tensor([ 2.,  4.,  8., 16.]),\n",
       " tensor([0.5000, 1.0000, 2.0000, 4.0000]),\n",
       " tensor([ 1.,  4., 16., 64.]))"
      ]
     },
     "execution_count": 6,
     "metadata": {},
     "output_type": "execute_result"
    }
   ],
   "source": [
    "# 运算\n",
    "x = torch.tensor([1.0, 2, 4, 8]) # 创建一个张量\n",
    "y = torch.tensor([2.0, 2, 2, 2]) #\n",
    "x + y, x - y, x * y, x / y, x ** y # 张量的逐元素加、减、乘、除和幂运算"
   ]
  },
  {
   "cell_type": "code",
   "execution_count": null,
   "id": "45ff1e48",
   "metadata": {},
   "outputs": [
    {
     "data": {
      "text/plain": [
       "tensor([2.7183e+00, 7.3891e+00, 5.4598e+01, 2.9810e+03])"
      ]
     },
     "execution_count": 7,
     "metadata": {},
     "output_type": "execute_result"
    }
   ],
   "source": [
    "torch.exp(x) # 指数运算"
   ]
  },
  {
   "cell_type": "code",
   "execution_count": 8,
   "id": "6d27ee68",
   "metadata": {},
   "outputs": [
    {
     "data": {
      "text/plain": [
       "(tensor([[ 0.,  1.,  2.,  3.],\n",
       "         [ 4.,  5.,  6.,  7.],\n",
       "         [ 8.,  9., 10., 11.],\n",
       "         [ 1.,  0.,  1.,  0.],\n",
       "         [ 0.,  1.,  0.,  1.],\n",
       "         [ 1.,  0.,  1.,  0.]]),\n",
       " tensor([[ 0.,  1.,  2.,  3.,  1.,  0.,  1.,  0.],\n",
       "         [ 4.,  5.,  6.,  7.,  0.,  1.,  0.,  1.],\n",
       "         [ 8.,  9., 10., 11.,  1.,  0.,  1.,  0.]]))"
      ]
     },
     "execution_count": 8,
     "metadata": {},
     "output_type": "execute_result"
    }
   ],
   "source": [
    "# 矩阵拼接\n",
    "X = torch.arange(12, dtype=torch.float32).reshape((3, 4))\n",
    "Y = torch.tensor([[1, 0, 1, 0], [0, 1, 0, 1], [1, 0, 1, 0]], dtype=torch.float32)\n",
    "torch.cat((X, Y), dim=0), torch.cat((X, Y), dim=1) # 在第0维（行）和第1维（列）上分别拼接矩阵X和Y"
   ]
  },
  {
   "cell_type": "code",
   "execution_count": 9,
   "id": "18144ed7",
   "metadata": {},
   "outputs": [
    {
     "data": {
      "text/plain": [
       "(tensor([[ True,  True,  True,  True],\n",
       "         [ True, False, False, False],\n",
       "         [False, False, False, False]]),\n",
       " tensor([[False, False, False, False],\n",
       "         [False, False, False, False],\n",
       "         [False, False, False, False]]))"
      ]
     },
     "execution_count": 9,
     "metadata": {},
     "output_type": "execute_result"
    }
   ],
   "source": [
    "# 通过逻辑运算符构建二元张量\n",
    "X < 5, X == Y # 逐元素比较X和Y的值"
   ]
  },
  {
   "cell_type": "code",
   "execution_count": null,
   "id": "de838a75",
   "metadata": {},
   "outputs": [
    {
     "data": {
      "text/plain": [
       "tensor(66.)"
      ]
     },
     "execution_count": 10,
     "metadata": {},
     "output_type": "execute_result"
    }
   ],
   "source": [
    "X.sum() # 所有元素求和，产出一个单元素张量"
   ]
  },
  {
   "cell_type": "code",
   "execution_count": 13,
   "id": "752b55d7",
   "metadata": {},
   "outputs": [
    {
     "data": {
      "text/plain": [
       "(tensor([[0],\n",
       "         [1],\n",
       "         [2]]),\n",
       " tensor([[0, 1]]))"
      ]
     },
     "execution_count": 13,
     "metadata": {},
     "output_type": "execute_result"
    }
   ],
   "source": [
    "# 广播机制\n",
    "a = torch.arange(3).reshape((3, 1))\n",
    "b = torch.arange(2).reshape((1, 2))\n",
    "a, b"
   ]
  },
  {
   "cell_type": "code",
   "execution_count": null,
   "id": "95df1700",
   "metadata": {},
   "outputs": [
    {
     "data": {
      "text/plain": [
       "tensor([[0, 1],\n",
       "        [1, 2],\n",
       "        [2, 3]])"
      ]
     },
     "execution_count": 14,
     "metadata": {},
     "output_type": "execute_result"
    }
   ],
   "source": [
    "# 广播机制是自动完成的\n",
    "a + b # a和b的维度并不相同，但仍然可以相加，因为PyTorch会自动地将它们扩展成相同的形状，然后再按元素相加：矩阵a将复制列， 矩阵b将复制行，然后再按元素相加"
   ]
  },
  {
   "cell_type": "code",
   "execution_count": 15,
   "id": "bac74025",
   "metadata": {},
   "outputs": [
    {
     "data": {
      "text/plain": [
       "(tensor([0., 1., 2., 3.]),\n",
       " tensor([ 8.,  9., 10., 11.]),\n",
       " tensor([[ 4.,  5.,  6.,  7.],\n",
       "         [ 8.,  9., 10., 11.]]))"
      ]
     },
     "execution_count": 15,
     "metadata": {},
     "output_type": "execute_result"
    }
   ],
   "source": [
    "# 索引和切片，类似python中的数组，第一个元素的索引是0，最后一个元素索引是-1； 可以指定范围以包含第一个元素和最后一个之前的元素\n",
    "X[0], X[-1], X[1:3]"
   ]
  },
  {
   "cell_type": "code",
   "execution_count": null,
   "id": "e57b2331",
   "metadata": {},
   "outputs": [
    {
     "data": {
      "text/plain": [
       "tensor([[ 0.,  1.,  2.,  3.],\n",
       "        [ 4.,  5.,  9.,  7.],\n",
       "        [12., 12., 12., 12.]])"
      ]
     },
     "execution_count": 16,
     "metadata": {},
     "output_type": "execute_result"
    }
   ],
   "source": [
    "# 支持赋值\n",
    "X[1, 2] = 9 # 将X的第二行第三列元素设为9\n",
    "X[2:3, :] = 12 # 将X的第三行所有元素设为12\n",
    "X"
   ]
  },
  {
   "cell_type": "code",
   "execution_count": null,
   "id": "3aaaea68",
   "metadata": {},
   "outputs": [
    {
     "name": "stdout",
     "output_type": "stream",
     "text": [
      "Z: tensor([[ 0.,  1.,  2.,  3.],\n",
      "        [ 4.,  5.,  9.,  7.],\n",
      "        [12., 12., 12., 12.]])\n"
     ]
    }
   ],
   "source": [
    "# 引用操作，而Y = X + Y，此时会生成一个新的内存地址，将其赋值给Y，而不是在原有的Y上进行修改\n",
    "Z = torch.zeros_like(X) # 创建一个与X形状相同的全零矩阵\n",
    "# print('Z:', Z)\n",
    "Z[:] = X # 将X的所有元素赋值到Z\n",
    "print('Z:', Z)"
   ]
  },
  {
   "cell_type": "code",
   "execution_count": 19,
   "id": "5d1bff0a",
   "metadata": {},
   "outputs": [
    {
     "data": {
      "text/plain": [
       "True"
      ]
     },
     "execution_count": 19,
     "metadata": {},
     "output_type": "execute_result"
    }
   ],
   "source": [
    "# 或者这样写 \n",
    "before = id(Y) # id函数返回变量的内存地址\n",
    "Y += X # 复合运算符会改变Y的值\n",
    "id(Y) == before # True，内存地址没有变"
   ]
  },
  {
   "cell_type": "code",
   "execution_count": 21,
   "id": "f2eac0b4",
   "metadata": {},
   "outputs": [
    {
     "data": {
      "text/plain": [
       "True"
      ]
     },
     "execution_count": 21,
     "metadata": {},
     "output_type": "execute_result"
    }
   ],
   "source": [
    "import numpy as np # NumPy是Python中一个非常流行的科学计算库。 它提供了一个强大的N维数组对象ndarray\n",
    "\n",
    "\n",
    "# torch张量和numpy数组将共享它们的底层内存，就地操作更改一个张量也会同时更改另一个张量\n",
    "A = X.numpy() # 将一个torch张量转换成一个numpy数组\n",
    "B = torch.from_numpy(A) # 将一个numpy数组转换成一个torch张量\n",
    "np.array_equal(A, B) # True，A和B的元素完全相同"
   ]
  },
  {
   "cell_type": "code",
   "execution_count": 24,
   "id": "1f417523",
   "metadata": {},
   "outputs": [
    {
     "data": {
      "text/plain": [
       "(array([[100., 100., 100., 100.],\n",
       "        [  4.,   5.,   9.,   7.],\n",
       "        [ 12.,  12.,  12.,  12.]], dtype=float32),\n",
       " tensor([[100., 100., 100., 100.],\n",
       "         [  4.,   5.,   9.,   7.],\n",
       "         [ 12.,  12.,  12.,  12.]]))"
      ]
     },
     "execution_count": 24,
     "metadata": {},
     "output_type": "execute_result"
    }
   ],
   "source": [
    "A[0] = 100 # 将A的第一个元素设为100\n",
    "A,B"
   ]
  },
  {
   "cell_type": "code",
   "execution_count": null,
   "id": "9a9e3529",
   "metadata": {},
   "outputs": [
    {
     "data": {
      "text/plain": [
       "(tensor([3.5000]), 3.5, 3.5, 3)"
      ]
     },
     "execution_count": 26,
     "metadata": {},
     "output_type": "execute_result"
    }
   ],
   "source": [
    "# 张量和标量\n",
    "a = torch.tensor([3.5]) # 创建一个标量张量\n",
    "a, a.item(), float(a), int(a) # item将张量转换成一个Python数值"
   ]
  },
  {
   "cell_type": "code",
   "execution_count": 33,
   "id": "3f965c26",
   "metadata": {},
   "outputs": [
    {
     "data": {
      "text/plain": [
       "tensor([[[2, 4, 6],\n",
       "         [2, 3, 4]]])"
      ]
     },
     "execution_count": 33,
     "metadata": {},
     "output_type": "execute_result"
    }
   ],
   "source": [
    "torch.tensor([[[1,2,3],[1,1,1]]]) + torch.tensor([1,2,3])"
   ]
  }
 ],
 "metadata": {
  "kernelspec": {
   "display_name": "base",
   "language": "python",
   "name": "python3"
  },
  "language_info": {
   "codemirror_mode": {
    "name": "ipython",
    "version": 3
   },
   "file_extension": ".py",
   "mimetype": "text/x-python",
   "name": "python",
   "nbconvert_exporter": "python",
   "pygments_lexer": "ipython3",
   "version": "3.11.5"
  }
 },
 "nbformat": 4,
 "nbformat_minor": 5
}
