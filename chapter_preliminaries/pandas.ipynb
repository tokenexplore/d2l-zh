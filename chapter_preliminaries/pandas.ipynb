{
 "cells": [
  {
   "cell_type": "code",
   "execution_count": 1,
   "id": "3dfc28b3",
   "metadata": {},
   "outputs": [],
   "source": [
    "# 写入文件\n",
    "file_path = '/Users/daniel/mydata/llm/course/d2l-zh/tmp.csv'\n",
    "with open(file_path,'w') as f:\n",
    "    f.write('NumRooms,Alley,Price\\n')  # 列名\n",
    "    f.write('NA,NA,127500\\n')              # 第一行数据\n",
    "    f.write('3,Grvl,106000\\n')          # 第二行数据\n",
    "    f.write('4,Pave,178100\\n')          # 第三行数据      # 第四行数据       # 第五行数据"
   ]
  },
  {
   "cell_type": "code",
   "execution_count": null,
   "id": "e9c669b8",
   "metadata": {},
   "outputs": [
    {
     "data": {
      "text/plain": [
       "NumRooms    float64\n",
       "Alley        object\n",
       "Price         int64\n",
       "dtype: object"
      ]
     },
     "execution_count": 6,
     "metadata": {},
     "output_type": "execute_result"
    }
   ],
   "source": [
    "# 读取文件\n",
    "import pandas as pd\n",
    "\n",
    "df = pd.read_csv(file_path)\n",
    "df.sample(3) # 随机读取3行\n",
    "# df.dtypes # 每一列的数据类型\n",
    "# df.describe() # 统计每一列的均值、标准差、最大值、最小值等"
   ]
  },
  {
   "cell_type": "code",
   "execution_count": 9,
   "id": "13d64100",
   "metadata": {},
   "outputs": [
    {
     "name": "stderr",
     "output_type": "stream",
     "text": [
      "/var/folders/4f/n52_hf2539l4l6wk6_3hw4tw0000gn/T/ipykernel_64751/3361172201.py:4: FutureWarning: The default value of numeric_only in DataFrame.mean is deprecated. In a future version, it will default to False. In addition, specifying 'numeric_only=None' is deprecated. Select only valid columns or specify the value of numeric_only to silence this warning.\n",
      "  inputs = inputs.fillna(inputs.mean()) # 用均值填充缺失值\n"
     ]
    },
    {
     "data": {
      "text/html": [
       "<div>\n",
       "<style scoped>\n",
       "    .dataframe tbody tr th:only-of-type {\n",
       "        vertical-align: middle;\n",
       "    }\n",
       "\n",
       "    .dataframe tbody tr th {\n",
       "        vertical-align: top;\n",
       "    }\n",
       "\n",
       "    .dataframe thead th {\n",
       "        text-align: right;\n",
       "    }\n",
       "</style>\n",
       "<table border=\"1\" class=\"dataframe\">\n",
       "  <thead>\n",
       "    <tr style=\"text-align: right;\">\n",
       "      <th></th>\n",
       "      <th>NumRooms</th>\n",
       "      <th>Alley</th>\n",
       "    </tr>\n",
       "  </thead>\n",
       "  <tbody>\n",
       "    <tr>\n",
       "      <th>0</th>\n",
       "      <td>3.5</td>\n",
       "      <td>NaN</td>\n",
       "    </tr>\n",
       "    <tr>\n",
       "      <th>1</th>\n",
       "      <td>3.0</td>\n",
       "      <td>Grvl</td>\n",
       "    </tr>\n",
       "    <tr>\n",
       "      <th>2</th>\n",
       "      <td>4.0</td>\n",
       "      <td>Pave</td>\n",
       "    </tr>\n",
       "  </tbody>\n",
       "</table>\n",
       "</div>"
      ],
      "text/plain": [
       "   NumRooms Alley\n",
       "0       3.5   NaN\n",
       "1       3.0  Grvl\n",
       "2       4.0  Pave"
      ]
     },
     "execution_count": 9,
     "metadata": {},
     "output_type": "execute_result"
    }
   ],
   "source": [
    "# 处理缺失值，使用iloc\n",
    "inputs,outputs = df.iloc[:,0:2],df.iloc[:,2]\n",
    "# inputs,outputs\n",
    "inputs = inputs.fillna(inputs.mean()) # 用均值填充缺失值\n",
    "inputs"
   ]
  },
  {
   "cell_type": "code",
   "execution_count": 12,
   "id": "f6fcc0fe",
   "metadata": {},
   "outputs": [
    {
     "name": "stdout",
     "output_type": "stream",
     "text": [
      "   NumRooms  Alley_Grvl  Alley_Pave  Alley_nan\n",
      "0       3.5           0           0          1\n",
      "1       3.0           1           0          0\n",
      "2       4.0           0           1          0\n"
     ]
    }
   ],
   "source": [
    "# 对于inputs中的类别值或离散值，我们将“NaN”视为一个类别\n",
    "inputs = pd.get_dummies(inputs, dummy_na=True)\n",
    "print(inputs)"
   ]
  },
  {
   "cell_type": "code",
   "execution_count": null,
   "id": "1c013c34",
   "metadata": {},
   "outputs": [
    {
     "data": {
      "text/plain": [
       "tensor([[3.5000e+00, 0.0000e+00, 0.0000e+00, 1.0000e+00, 1.2750e+05],\n",
       "        [3.0000e+00, 1.0000e+00, 0.0000e+00, 0.0000e+00, 1.0600e+05],\n",
       "        [4.0000e+00, 0.0000e+00, 1.0000e+00, 0.0000e+00, 1.7810e+05]])"
      ]
     },
     "execution_count": 15,
     "metadata": {},
     "output_type": "execute_result"
    }
   ],
   "source": [
    "# 现在，inputs和outputs的数据元素都是数值类型，可以转换为张量\n",
    "import torch\n",
    "x = torch.tensor(inputs.values).float() # 或者 torch.tensor(inputs.to_numpy(dtype=float))\n",
    "y = torch.tensor(outputs.values).float()\n",
    "# x, y\n",
    "# --- IGNORE ---\n",
    "torch.cat([x, y.reshape(3, 1)], 1) # 将x和y按列连结起来，方便查看，此处 y.reshape(3, 1)和y.reshape(-1, 1)等价"
   ]
  }
 ],
 "metadata": {
  "kernelspec": {
   "display_name": "base",
   "language": "python",
   "name": "python3"
  },
  "language_info": {
   "codemirror_mode": {
    "name": "ipython",
    "version": 3
   },
   "file_extension": ".py",
   "mimetype": "text/x-python",
   "name": "python",
   "nbconvert_exporter": "python",
   "pygments_lexer": "ipython3",
   "version": "3.11.5"
  }
 },
 "nbformat": 4,
 "nbformat_minor": 5
}
